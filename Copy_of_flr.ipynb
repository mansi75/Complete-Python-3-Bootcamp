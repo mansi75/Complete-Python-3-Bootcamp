{
  "nbformat": 4,
  "nbformat_minor": 0,
  "metadata": {
    "colab": {
      "name": "Copy of flr.ipynb",
      "provenance": [],
      "authorship_tag": "ABX9TyPZ6i5wMfjw8Ya9g0m0cQ2y",
      "include_colab_link": true
    },
    "kernelspec": {
      "name": "python3",
      "display_name": "Python 3"
    }
  },
  "cells": [
    {
      "cell_type": "markdown",
      "metadata": {
        "id": "view-in-github",
        "colab_type": "text"
      },
      "source": [
        "<a href=\"https://colab.research.google.com/github/mansi75/Complete-Python-3-Bootcamp/blob/master/Copy_of_flr.ipynb\" target=\"_parent\"><img src=\"https://colab.research.google.com/assets/colab-badge.svg\" alt=\"Open In Colab\"/></a>"
      ]
    },
    {
      "cell_type": "code",
      "metadata": {
        "id": "8dRBAHN3l0WA",
        "colab_type": "code",
        "colab": {}
      },
      "source": [
        ""
      ],
      "execution_count": null,
      "outputs": []
    },
    {
      "cell_type": "code",
      "metadata": {
        "id": "jAIaTx-ak8lK",
        "colab_type": "code",
        "colab": {
          "base_uri": "https://localhost:8080/",
          "height": 399
        },
        "outputId": "7734151f-da75-4813-d6aa-42b5aea91e98"
      },
      "source": [
        "!wget http://www.robots.ox.ac.uk/~vgg/data/flowers/102/102flowers.tgz\n",
        "!tar -xzf 102flowers.tgz\n",
        "!rm 102flowers.tgz\n",
        "!wget http://www.robots.ox.ac.uk/~vgg/data/flowers/102/imagelabels.mat"
      ],
      "execution_count": 1,
      "outputs": [
        {
          "output_type": "stream",
          "text": [
            "--2020-07-26 06:43:49--  http://www.robots.ox.ac.uk/~vgg/data/flowers/102/102flowers.tgz\n",
            "Resolving www.robots.ox.ac.uk (www.robots.ox.ac.uk)... 129.67.94.2\n",
            "Connecting to www.robots.ox.ac.uk (www.robots.ox.ac.uk)|129.67.94.2|:80... connected.\n",
            "HTTP request sent, awaiting response... 200 OK\n",
            "Length: 344862509 (329M) [application/x-gzip]\n",
            "Saving to: ‘102flowers.tgz’\n",
            "\n",
            "102flowers.tgz      100%[===================>] 328.89M  32.4MB/s    in 11s     \n",
            "\n",
            "2020-07-26 06:44:00 (30.4 MB/s) - ‘102flowers.tgz’ saved [344862509/344862509]\n",
            "\n",
            "--2020-07-26 06:44:11--  http://www.robots.ox.ac.uk/~vgg/data/flowers/102/imagelabels.mat\n",
            "Resolving www.robots.ox.ac.uk (www.robots.ox.ac.uk)... 129.67.94.2\n",
            "Connecting to www.robots.ox.ac.uk (www.robots.ox.ac.uk)|129.67.94.2|:80... connected.\n",
            "HTTP request sent, awaiting response... 200 OK\n",
            "Length: 502\n",
            "Saving to: ‘imagelabels.mat’\n",
            "\n",
            "imagelabels.mat     100%[===================>]     502  --.-KB/s    in 0s      \n",
            "\n",
            "2020-07-26 06:44:11 (66.0 MB/s) - ‘imagelabels.mat’ saved [502/502]\n",
            "\n"
          ],
          "name": "stdout"
        }
      ]
    },
    {
      "cell_type": "code",
      "metadata": {
        "id": "qDHIXsHlmJiy",
        "colab_type": "code",
        "colab": {}
      },
      "source": [
        ""
      ],
      "execution_count": 1,
      "outputs": []
    },
    {
      "cell_type": "code",
      "metadata": {
        "id": "2JtYRBcJqRsR",
        "colab_type": "code",
        "colab": {
          "base_uri": "https://localhost:8080/",
          "height": 34
        },
        "outputId": "2e0a1313-71ac-46d0-ce3a-ceec97b84181"
      },
      "source": [
        "import os\n",
        "import numpy as np\n",
        "import scipy.io\n",
        "import cv2\n",
        "from keras.utils import to_categorical\n",
        "from sklearn.model_selection import train_test_split"
      ],
      "execution_count": 2,
      "outputs": [
        {
          "output_type": "stream",
          "text": [
            "Using TensorFlow backend.\n"
          ],
          "name": "stderr"
        }
      ]
    },
    {
      "cell_type": "code",
      "metadata": {
        "id": "Hg8sd6T4mX-q",
        "colab_type": "code",
        "colab": {}
      },
      "source": [
        ""
      ],
      "execution_count": 2,
      "outputs": []
    },
    {
      "cell_type": "code",
      "metadata": {
        "id": "rRVoOuqIquo2",
        "colab_type": "code",
        "colab": {}
      },
      "source": [
        "img_labels = scipy.io.loadmat(\"imagelabels.mat\")\n",
        "img_labels = img_labels[\"labels\"]\n",
        "img_labels = img_labels[0]\n",
        "for i in range(len(img_labels)):\n",
        "  img_labels[i] = img_labels[i] - 1"
      ],
      "execution_count": 3,
      "outputs": []
    },
    {
      "cell_type": "code",
      "metadata": {
        "id": "XUYvt-M_meW4",
        "colab_type": "code",
        "colab": {}
      },
      "source": [
        ""
      ],
      "execution_count": 3,
      "outputs": []
    },
    {
      "cell_type": "code",
      "metadata": {
        "id": "fQX4Vwx9qyOi",
        "colab_type": "code",
        "colab": {}
      },
      "source": [
        "train_x = []\n",
        "train_y = []\n",
        "dir = \"jpg/\"\n",
        "for imgs in os.listdir(dir):\n",
        "  img_num = int(imgs[7:11])-1\n",
        "  train_y.append(img_labels[img_num])\n",
        "  image = cv2.imread(os.path.join(dir, imgs))\n",
        "  resized = cv2.resize(image, (150,150))\n",
        "  normalized_img = cv2.normalize(resized, None, alpha=0, beta=1, \n",
        "                            norm_type=cv2.NORM_MINMAX, dtype=cv2.CV_32F)\n",
        "  train_x.append(normalized_img)\n",
        "train_x = np.array(train_x)"
      ],
      "execution_count": 4,
      "outputs": []
    },
    {
      "cell_type": "code",
      "metadata": {
        "id": "Dd8kfLSUmhLM",
        "colab_type": "code",
        "colab": {}
      },
      "source": [
        ""
      ],
      "execution_count": 4,
      "outputs": []
    },
    {
      "cell_type": "code",
      "metadata": {
        "id": "zLUH28kXq13S",
        "colab_type": "code",
        "colab": {}
      },
      "source": [
        "trainx, valx, trainy, valy = train_test_split(train_x, train_y, test_size=0.15, random_state=10)"
      ],
      "execution_count": 5,
      "outputs": []
    },
    {
      "cell_type": "code",
      "metadata": {
        "id": "cRFxoV-fmqNW",
        "colab_type": "code",
        "colab": {}
      },
      "source": [
        ""
      ],
      "execution_count": 5,
      "outputs": []
    },
    {
      "cell_type": "code",
      "metadata": {
        "id": "qVNaIBnArGNp",
        "colab_type": "code",
        "colab": {
          "base_uri": "https://localhost:8080/",
          "height": 52
        },
        "outputId": "155ab810-57de-47c3-d74d-97310dd02886"
      },
      "source": [
        "print('Training Dataset Shape: ­{}'.format(trainx.shape))\n",
        "print('No. of Training Dataset Labels: {}'.format(len(trainy)))"
      ],
      "execution_count": 6,
      "outputs": [
        {
          "output_type": "stream",
          "text": [
            "Training Dataset Shape: ­(6960, 150, 150, 3)\n",
            "No. of Training Dataset Labels: 6960\n"
          ],
          "name": "stdout"
        }
      ]
    },
    {
      "cell_type": "code",
      "metadata": {
        "id": "igibL1inmtzj",
        "colab_type": "code",
        "colab": {}
      },
      "source": [
        ""
      ],
      "execution_count": 6,
      "outputs": []
    },
    {
      "cell_type": "code",
      "metadata": {
        "id": "ZxxSDgxVrJhG",
        "colab_type": "code",
        "colab": {
          "base_uri": "https://localhost:8080/",
          "height": 86
        },
        "outputId": "85bbcc11-62e6-4c5d-865b-5a1d66c22342"
      },
      "source": [
        "training_images= trainx/255.0\n",
        "test_images=valx/255.0\n",
        " \n",
        "training_images = trainx.reshape((6960,150,150,3))\n",
        "valx = valx.reshape((1229,150,150,3))\n",
        "print('Training Dataset Shape: ­{}'.format(trainx.shape))\n",
        "print('No. of Training Dataset Labels: {}'.format(len(trainy)))\n",
        "print('Test Dataset Shape: {}'.format(valx.shape))\n",
        "print('No. of Test Dataset Labels: {}'.format(len(valy)))"
      ],
      "execution_count": 7,
      "outputs": [
        {
          "output_type": "stream",
          "text": [
            "Training Dataset Shape: ­(6960, 150, 150, 3)\n",
            "No. of Training Dataset Labels: 6960\n",
            "Test Dataset Shape: (1229, 150, 150, 3)\n",
            "No. of Test Dataset Labels: 1229\n"
          ],
          "name": "stdout"
        }
      ]
    },
    {
      "cell_type": "code",
      "metadata": {
        "id": "HLhp9am3nJQL",
        "colab_type": "code",
        "colab": {}
      },
      "source": [
        ""
      ],
      "execution_count": 7,
      "outputs": []
    },
    {
      "cell_type": "code",
      "metadata": {
        "id": "b3A3OJxzrM48",
        "colab_type": "code",
        "colab": {}
      },
      "source": [
        "trainy = to_categorical(trainy)\n",
        "valy = to_categorical(valy)"
      ],
      "execution_count": 8,
      "outputs": []
    },
    {
      "cell_type": "code",
      "metadata": {
        "id": "q1qXva0nnTMa",
        "colab_type": "code",
        "colab": {}
      },
      "source": [
        ""
      ],
      "execution_count": 8,
      "outputs": []
    },
    {
      "cell_type": "code",
      "metadata": {
        "id": "IYKkvZ9QrTOQ",
        "colab_type": "code",
        "colab": {
          "base_uri": "https://localhost:8080/",
          "height": 52
        },
        "outputId": "afa80a40-cedf-48c0-926f-0f37f6906151"
      },
      "source": [
        "print(type(test_images))\n",
        "print(type(valy))\n",
        "from numpy import save\n",
        "save('test_images1.npy', test_images)\n",
        "save('test_lables1.npy',valy)\n"
      ],
      "execution_count": 9,
      "outputs": [
        {
          "output_type": "stream",
          "text": [
            "<class 'numpy.ndarray'>\n",
            "<class 'numpy.ndarray'>\n"
          ],
          "name": "stdout"
        }
      ]
    },
    {
      "cell_type": "code",
      "metadata": {
        "id": "NQmM3MKgoFsU",
        "colab_type": "code",
        "colab": {}
      },
      "source": [
        ""
      ],
      "execution_count": 9,
      "outputs": []
    },
    {
      "cell_type": "code",
      "metadata": {
        "id": "LXC1SaJewkQa",
        "colab_type": "code",
        "colab": {
          "base_uri": "https://localhost:8080/",
          "height": 356
        },
        "outputId": "bbd64851-7104-4275-c5c7-a46297c8eb95"
      },
      "source": [
        "import matplotlib.pyplot as plt\n",
        "plt.imshow(training_images[123])\n",
        "print(trainy[123])"
      ],
      "execution_count": 10,
      "outputs": [
        {
          "output_type": "stream",
          "text": [
            "[0. 0. 0. 0. 0. 0. 0. 0. 0. 0. 0. 0. 0. 0. 0. 0. 0. 0. 0. 0. 0. 0. 0. 0.\n",
            " 0. 0. 0. 0. 0. 0. 0. 0. 0. 0. 0. 0. 0. 0. 0. 0. 0. 0. 0. 0. 0. 0. 0. 0.\n",
            " 0. 0. 0. 0. 0. 0. 0. 0. 0. 0. 0. 0. 0. 0. 0. 0. 0. 0. 0. 0. 0. 0. 0. 0.\n",
            " 0. 0. 1. 0. 0. 0. 0. 0. 0. 0. 0. 0. 0. 0. 0. 0. 0. 0. 0. 0. 0. 0. 0. 0.\n",
            " 0. 0. 0. 0. 0. 0.]\n"
          ],
          "name": "stdout"
        },
        {
          "output_type": "display_data",
          "data": {
            "image/png": "[encoded data removed]",
            "text/plain": [
              "<Figure size 432x288 with 1 Axes>"
            ]
          },
          "metadata": {
            "tags": [],
            "needs_background": "light"
          }
        }
      ]
    },
    {
      "cell_type": "code",
      "metadata": {
        "id": "3PkUeb_roKX4",
        "colab_type": "code",
        "colab": {}
      },
      "source": [
        ""
      ],
      "execution_count": 10,
      "outputs": []
    },
    {
      "cell_type": "code",
      "metadata": {
        "id": "VBAVt3pXbp3X",
        "colab_type": "code",
        "colab": {
          "base_uri": "https://localhost:8080/",
          "height": 69
        },
        "outputId": "11224fe5-4780-4199-92c2-33e805462811"
      },
      "source": [
        " \n",
        "from keras.layers import Dense, Conv2D, Flatten, MaxPooling2D, Dropout\n",
        "from keras.models import Sequential\n",
        "from tensorflow.keras import layers\n",
        "from tensorflow.keras import regularizers\n",
        "model = Sequential()\n",
        " \n",
        "#add model layers\n",
        " \n",
        " \n",
        "model = Sequential()\n",
        "# #Layer 1\n",
        "model.add(Conv2D(64, kernel_size=3, activation='relu', input_shape=(150, 150, 3),strides=(2,2)))\n",
        "model.add(MaxPooling2D((2,2)))\n",
        "model.add(Dropout(0.3))\n",
        " \n",
        "# #Layer 2\n",
        "model.add(Conv2D(128, kernel_size=3, activation='relu'))\n",
        "model.add(MaxPooling2D((2,2)))\n",
        "model.add(Dropout(0.4))\n",
        "# #Layer 3\n",
        " \n",
        "model.add(Conv2D(128, kernel_size=3, activation='relu'))\n",
        "model.add(MaxPooling2D((2,2)))\n",
        "model.add(Dropout(0.5))\n",
        "# #Layer 4\n",
        "model.add(Conv2D(256, kernel_size=3, activation='relu'))\n",
        "model.add(MaxPooling2D((2,2)))\n",
        "# #Input to Neural Network is flattened\n",
        "model.add(Flatten())\n",
        "# #1st hidden layer with 512 neurons/nodes\n",
        "model.add(Dense(512, activation='relu'))\n",
        "model.add(Dropout(0.6))\n",
        "# #Output layer with 102 nodes for classifying 102 flowers\n",
        "model.add(Dense(102, activation='softmax'))\n",
        " \n",
        "\"\"\"## Compiling and Training the Neural Network\"\"\"\n",
        " \n",
        "#Compile the neural network\n",
        "model.compile(optimizer=\"adam\", loss=\"categorical_crossentropy\", metrics=[\"accuracy\"])\n",
        " \n",
        "#Train the network\n",
        "model.fit(trainx, trainy, validation_data = (valx, valy), epochs=80, batch_size=200)"
      ],
      "execution_count": null,
      "outputs": [
        {
          "output_type": "stream",
          "text": [
            "Train on 6960 samples, validate on 1229 samples\n",
            "Epoch 1/80\n",
            "3600/6960 [==============>...............] - ETA: 1:13 - loss: 4.5845 - accuracy: 0.0247"
          ],
          "name": "stdout"
        }
      ]
    },
    {
      "cell_type": "code",
      "metadata": {
        "id": "RVYEG1DnoO9T",
        "colab_type": "code",
        "colab": {}
      },
      "source": [
        ""
      ],
      "execution_count": null,
      "outputs": []
    },
    {
      "cell_type": "code",
      "metadata": {
        "id": "mVviEZz3Vlt0",
        "colab_type": "code",
        "colab": {}
      },
      "source": [
        "model.save('model.h5')\n",
        "print('model saved')"
      ],
      "execution_count": null,
      "outputs": []
    },
    {
      "cell_type": "code",
      "metadata": {
        "id": "hXJgmvjLoTO1",
        "colab_type": "code",
        "colab": {}
      },
      "source": [
        ""
      ],
      "execution_count": null,
      "outputs": []
    },
    {
      "cell_type": "code",
      "metadata": {
        "id": "gGCK_yn8j_uX",
        "colab_type": "code",
        "colab": {}
      },
      "source": [
        "from keras.models import load_model\n",
        "model = load_model(\"model.h5\")\n",
        " \n",
        "score = model.evaluate(valx, valy)\n",
        " \n",
        "print('Test loss:', score[0]) \n",
        "print('Test accuracy:', score[1])\n",
        " \n",
        "#Predict output on sample input data\n",
        "pred = model.predict(valx) \n",
        "pred = np.argmax(pred, axis = 1)[:10] \n",
        "label = np.argmax(valy,axis = 1)[:10] \n",
        " \n",
        "print(\"Predicted labels:\",pred) \n",
        "print(\"Actual Labels:   \",label)"
      ],
      "execution_count": null,
      "outputs": []
    },
    {
      "cell_type": "code",
      "metadata": {
        "id": "WErQyO1KoWwM",
        "colab_type": "code",
        "colab": {}
      },
      "source": [
        ""
      ],
      "execution_count": null,
      "outputs": []
    },
    {
      "cell_type": "code",
      "metadata": {
        "id": "BarxZ8I4x7Xd",
        "colab_type": "code",
        "colab": {}
      },
      "source": [
        "model.summary()"
      ],
      "execution_count": null,
      "outputs": []
    }
  ]
}